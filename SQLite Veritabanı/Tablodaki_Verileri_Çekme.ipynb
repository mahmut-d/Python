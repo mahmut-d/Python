{
 "cells": [
  {
   "cell_type": "markdown",
   "metadata": {},
   "source": [
    "# Tablodaki Verileri Çekme\n",
    "\n",
    " Tablodan veri çekmek için şu **SQL** sorgularını kullanacağız.\n",
    "\n",
    "\n",
    "**Select * From kitaplık** - Tablodaki tüm bilgileri almamızı sağlar.\n",
    "\n",
    "**Select İsim,Yazar From kitaplık** Tablodaki tüm bilgileri sadece İsim ve Yazar özelliklerini almamızı sağlar.\n",
    "\n",
    "**Select * From kitaplık where Yayınevi = 'Everest'** Sadece Yayınevi özelliği Everest olanları alır.\n",
    "\n"
   ]
  },
  {
   "cell_type": "code",
   "execution_count": 1,
   "metadata": {},
   "outputs": [
    {
     "name": "stdout",
     "output_type": "stream",
     "text": [
      "Kitaplık Tablosunun bilgileri.....\n",
      "('Çiçek Bahçesi', 'Ali Yurtlu', 'Ser', 544)\n",
      "('Karlı Dağlar', 'Mithat Kibar', 'Uludağ', 222)\n"
     ]
    }
   ],
   "source": [
    "import sqlite3\n",
    "\n",
    "con = sqlite3.connect(\"kütüphane.db\")\n",
    "\n",
    "cursor = con.cursor()\n",
    "def tablo_olustur():\n",
    "    cursor.execute(\"CREATE TABLE IF NOT EXISTS kitaplık (İsim TEXT,Yazar TEXT,Yayınevi TEXT,Sayfa_Sayısı INT)\")\n",
    "    con.commit()\n",
    "def deger_ekle(isim,yazar,yayınevi,sayfa_sayısı):\n",
    "    cursor.execute(\"Insert into kitaplık Values(?,?,?,?)\",(isim,yazar,yayınevi,sayfa_sayısı))\n",
    "    con.commit()\n",
    "def verileri_al():\n",
    "    cursor.execute(\"Select * From kitaplık\") # Bütün bilgileri alıyoruz.\n",
    "    data = cursor.fetchall() # Veritabanından bilgileri çekmek için fetchall() kullanıyoruz.\n",
    "    print(\"Kitaplık Tablosunun bilgileri.....\")\n",
    "    for i in data:\n",
    "        print(i)\n",
    "    # con.commit() işlemine gerek yok. Çünkü tabloda herhangi bir güncelleme yapmıyoruz.\n",
    "verileri_al()\n",
    "con.close()"
   ]
  },
  {
   "cell_type": "markdown",
   "metadata": {},
   "source": [
    "İkinci sorgumuzu çalıştırdığımız kodumuzu da yazalım."
   ]
  },
  {
   "cell_type": "code",
   "execution_count": 2,
   "metadata": {},
   "outputs": [
    {
     "name": "stdout",
     "output_type": "stream",
     "text": [
      "Kitaplık Tablosunun bilgileri.....\n",
      "('Çiçek Bahçesi', 'Ali Yurtlu')\n",
      "('Karlı Dağlar', 'Mithat Kibar')\n"
     ]
    }
   ],
   "source": [
    "import sqlite3\n",
    "\n",
    "con = sqlite3.connect(\"kütüphane.db\")\n",
    "\n",
    "cursor = con.cursor()\n",
    "def tablo_olustur():\n",
    "    cursor.execute(\"CREATE TABLE IF NOT EXISTS kitaplık (İsim TEXT,Yazar TEXT,Yayınevi TEXT,Sayfa_Sayısı INT)\")\n",
    "    con.commit()\n",
    "def deger_ekle(isim,yazar,yayınevi,sayfa_sayısı):\n",
    "    cursor.execute(\"Insert into kitaplık Values(?,?,?,?)\",(isim,yazar,yayınevi,sayfa_sayısı))\n",
    "    con.commit()\n",
    "def verileri_al():\n",
    "    cursor.execute(\"Select * From kitaplık\")\n",
    "    data = cursor.fetchall()\n",
    "    print(\"Kitaplık Tablosunun bilgileri.....\")\n",
    "    for i in data:\n",
    "        print(i)\n",
    "def verileri_al2():\n",
    "    cursor.execute(\"Select İsim,Yazar From kitaplık\") # Sadece İsim ve Yazar özelliklerini alıyoruz.\n",
    "    data = cursor.fetchall()\n",
    "    print(\"Kitaplık Tablosunun bilgileri.....\")\n",
    "    for i in data:\n",
    "        print(i)\n",
    "verileri_al2()\n",
    "con.close()     "
   ]
  },
  {
   "cell_type": "markdown",
   "metadata": {},
   "source": [
    "Son olarak da 3. sorgumuzu çalıştırdığımız kodumuzu da yazalım."
   ]
  },
  {
   "cell_type": "code",
   "execution_count": 4,
   "metadata": {},
   "outputs": [
    {
     "name": "stdout",
     "output_type": "stream",
     "text": [
      "Kitaplık Tablosunun bilgileri.....\n"
     ]
    }
   ],
   "source": [
    "import sqlite3\n",
    "\n",
    "con = sqlite3.connect(\"kütüphane.db\")\n",
    "\n",
    "cursor = con.cursor()\n",
    "def tablo_olustur():\n",
    "    cursor.execute(\"CREATE TABLE IF NOT EXISTS kitaplık (İsim TEXT,Yazar TEXT,Yayınevi TEXT,Sayfa_Sayısı INT)\")\n",
    "    con.commit()\n",
    "def deger_ekle(isim,yazar,yayınevi,sayfa_sayısı):\n",
    "    cursor.execute(\"Insert into kitaplık Values(?,?,?,?)\",(isim,yazar,yayınevi,sayfa_sayısı))\n",
    "    con.commit()\n",
    "def verileri_al():\n",
    "    cursor.execute(\"Select * From kitaplık\")\n",
    "    data = cursor.fetchall()\n",
    "    print(\"Kitaplık Tablosunun bilgileri.....\")\n",
    "    for i in data:\n",
    "        print(i)\n",
    "def verileri_al2():\n",
    "    cursor.execute(\"Select İsim,Yazar From kitaplık\")\n",
    "    data = cursor.fetchall()\n",
    "    print(\"Kitaplık Tablosunun bilgileri.....\")\n",
    "    for i in data:\n",
    "        print(i)\n",
    "def verileri_al3(yayınevi):\n",
    "    cursor.execute(\"Select * From kitaplık where Yayınevi = ?\",(yayınevi,)) # Sadece yayınevi ,Everest olan kitapları alıyoruz.\n",
    "    data = cursor.fetchall()\n",
    "    print(\"Kitaplık Tablosunun bilgileri.....\")\n",
    "    for i in data:\n",
    "        print(i)\n",
    "verileri_al3(\"Everest\")\n",
    "con.close()               "
   ]
  }
 ],
 "metadata": {
  "kernelspec": {
   "display_name": "Python 3",
   "language": "python",
   "name": "python3"
  },
  "language_info": {
   "codemirror_mode": {
    "name": "ipython",
    "version": 3
   },
   "file_extension": ".py",
   "mimetype": "text/x-python",
   "name": "python",
   "nbconvert_exporter": "python",
   "pygments_lexer": "ipython3",
   "version": "3.7.7"
  }
 },
 "nbformat": 4,
 "nbformat_minor": 4
}
