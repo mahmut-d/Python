{
 "cells": [
  {
   "cell_type": "markdown",
   "metadata": {},
   "source": [
    "# Fonksiyonlar"
   ]
  },
  {
   "cell_type": "markdown",
   "metadata": {},
   "source": [
    "Fonksiyonlar programlamada belli işlevleri olan ve tekrar tekrar kullandığımız yapılardır.Kullandığımız **print()** fonksiyonunun görevi **içine gönderdiğimiz değerleri** ekrana yazdırdırmaktır. Bu fonksiyon Python geliştiricileri tarafından bir defa yazılmış ve biz de bu fonksiyonu programlarımızın değişik yerlerinde tekrar tekrar kullanıyoruz. İşte fonksiyonların kullanım amacı tam olarak budur. Fonksiyonlar bir defa tanımlanır ve programlarda ihtiyacımız olduğu zaman kullanırız. Ayrıca fonksiyonlar kod tekrarını engeller ve kodlarımız daha derli toplu durur.\n",
    "\n",
    "İsterseniz şimdi de  fonksiyonların ne olduğunu gerçek hayattan benzetme yaparak anlamaya çalışalım. Örneğin evimize bir adet **katı meyve sıkacağı** alıyoruz ve canımız ne zaman meyve suyu isterse bu aleti kullanıyoruz. Yani aslında bu aletin görevi ve fonksiyonu **meyve suyu** hazırlamaktır.\n",
    "\n",
    "Python geliştiricilerin yazdığı fonksiyonlara yani bizim hazır kullandığımız fonksiyonlara(print(),type() vs.) gömülü fonksiyonlar(built-in function) denilmektedir.Ancak bunlardan hariç olarak biz kendi özel fonksiyonlarımızı(user-defined functions) da tanımlayabiliriz.\n"
   ]
  },
  {
   "cell_type": "markdown",
   "metadata": {},
   "source": [
    "### Fonksiyonların Tanımlanması\n",
    "\n",
    "Fonksiyon tanımlamanın yapısı şu şekildedir;\n",
    "\n",
    "            def fonksiyon_adı(parametre1,parametre2..... (opsiyonel)):\n",
    "                # Fonksiyon bloğu\n",
    "                Yapılacak işlemler\n",
    "                # dönüş değeri - Opsiyonel\n",
    "                \n",
    "                "
   ]
  },
  {
   "cell_type": "code",
   "execution_count": 1,
   "metadata": {},
   "outputs": [
    {
     "ename": "NameError",
     "evalue": "name 'selamla' is not defined",
     "output_type": "error",
     "traceback": [
      "\u001b[1;31m---------------------------------------------------------------------------\u001b[0m",
      "\u001b[1;31mNameError\u001b[0m                                 Traceback (most recent call last)",
      "\u001b[1;32m<ipython-input-1-97cbad8bc8b1>\u001b[0m in \u001b[0;36m<module>\u001b[1;34m\u001b[0m\n\u001b[1;32m----> 1\u001b[1;33m \u001b[0mtype\u001b[0m\u001b[1;33m(\u001b[0m\u001b[0mselamla\u001b[0m\u001b[1;33m)\u001b[0m \u001b[1;31m# Henüz tanımlamadık.\u001b[0m\u001b[1;33m\u001b[0m\u001b[1;33m\u001b[0m\u001b[0m\n\u001b[0m",
      "\u001b[1;31mNameError\u001b[0m: name 'selamla' is not defined"
     ]
    }
   ],
   "source": [
    "type(selamla) # Henüz tanımlamadık."
   ]
  },
  {
   "cell_type": "code",
   "execution_count": 2,
   "metadata": {},
   "outputs": [],
   "source": [
    "def selamla(): \n",
    "    print(\"Selam arkadaşlar...\")\n",
    "    print(\"Nasılsınız?\")"
   ]
  },
  {
   "cell_type": "code",
   "execution_count": 3,
   "metadata": {},
   "outputs": [
    {
     "data": {
      "text/plain": [
       "function"
      ]
     },
     "execution_count": 3,
     "metadata": {},
     "output_type": "execute_result"
    }
   ],
   "source": [
    "type(selamla) # Fonksiyonumuz tanımlandı."
   ]
  },
  {
   "cell_type": "markdown",
   "metadata": {},
   "source": [
    "### Fonksiyonların Kullanılması veya Çağrılması (Function Call)"
   ]
  },
  {
   "cell_type": "markdown",
   "metadata": {},
   "source": [
    "Tanımlanan bir fonksiyonun kullanılmasına programlama dillerinde *Fonksiyon Çağrısı* denmektedir. \n",
    "\n",
    "            fonksiyon_adı(Argüman1,Argüman2....)\n",
    "            "
   ]
  },
  {
   "cell_type": "code",
   "execution_count": 4,
   "metadata": {},
   "outputs": [
    {
     "data": {
      "text/plain": [
       "function"
      ]
     },
     "execution_count": 4,
     "metadata": {},
     "output_type": "execute_result"
    }
   ],
   "source": [
    "type(selamla) # Tanımlı "
   ]
  },
  {
   "cell_type": "code",
   "execution_count": 5,
   "metadata": {},
   "outputs": [
    {
     "name": "stdout",
     "output_type": "stream",
     "text": [
      "Selam arkadaşlar...\n",
      "Nasılsınız?\n"
     ]
    }
   ],
   "source": [
    "selamla() # Fonksiyon parametre almadığında içine argümanlarımızı göndermiyoruz."
   ]
  },
  {
   "cell_type": "code",
   "execution_count": 6,
   "metadata": {},
   "outputs": [
    {
     "name": "stdout",
     "output_type": "stream",
     "text": [
      "Selam arkadaşlar...\n",
      "Nasılsınız?\n",
      "Selam arkadaşlar...\n",
      "Nasılsınız?\n",
      "Selam arkadaşlar...\n",
      "Nasılsınız?\n",
      "Selam arkadaşlar...\n",
      "Nasılsınız?\n"
     ]
    }
   ],
   "source": [
    "selamla()\n",
    "selamla()\n",
    "selamla()\n",
    "selamla()"
   ]
  },
  {
   "cell_type": "code",
   "execution_count": 7,
   "metadata": {},
   "outputs": [
    {
     "ename": "TypeError",
     "evalue": "selamla() takes 0 positional arguments but 1 was given",
     "output_type": "error",
     "traceback": [
      "\u001b[1;31m---------------------------------------------------------------------------\u001b[0m",
      "\u001b[1;31mTypeError\u001b[0m                                 Traceback (most recent call last)",
      "\u001b[1;32m<ipython-input-7-1d9ea8d3156e>\u001b[0m in \u001b[0;36m<module>\u001b[1;34m\u001b[0m\n\u001b[1;32m----> 1\u001b[1;33m \u001b[0mselamla\u001b[0m\u001b[1;33m(\u001b[0m\u001b[1;34m\"python\"\u001b[0m\u001b[1;33m)\u001b[0m \u001b[1;31m# Hata verdi çünkü fonksiyonumuz hiçbir değer almıyor.\u001b[0m\u001b[1;33m\u001b[0m\u001b[1;33m\u001b[0m\u001b[0m\n\u001b[0m",
      "\u001b[1;31mTypeError\u001b[0m: selamla() takes 0 positional arguments but 1 was given"
     ]
    }
   ],
   "source": [
    "selamla(\"python\") # Hata verdi çünkü fonksiyonumuz hiçbir değer almıyor."
   ]
  },
  {
   "cell_type": "markdown",
   "metadata": {},
   "source": [
    "### Parametreler ve Argümanlar"
   ]
  },
  {
   "cell_type": "markdown",
   "metadata": {},
   "source": [
    "Biliyorsunuz biz selamla fonksiyonunun içine herhangi bir değer göndermiyorduk ve fonksiyonumuz hep aynı işi yapıyordu. Ancak çoğu zaman fonksiyonlarımız içine gönderdiğimiz değerlerle farklı işlemler yaparlar. Örneğin **katı meyve sıkacağına** eğer \"Elma\" verirsek elma suyu,  \"Nar\" verirsek nar suyu hazırlayacaktır. Fonksiyonlarda da **Parametreleri** bu şekilde düşünebilirsiniz. İsterseniz şimdi **selamlama** fonksiyonumuzu bir tane parametre alacak şekilde tanımlayalım."
   ]
  },
  {
   "cell_type": "code",
   "execution_count": 8,
   "metadata": {},
   "outputs": [],
   "source": [
    "def selamla(isim): # isim değişkenimiz burada parametre olmaktadır\n",
    "    print(\"Merhaba:\",isim)\n"
   ]
  },
  {
   "cell_type": "code",
   "execution_count": 9,
   "metadata": {},
   "outputs": [
    {
     "name": "stdout",
     "output_type": "stream",
     "text": [
      "Merhaba: Kemal\n"
     ]
    }
   ],
   "source": [
    "selamla(\"Kemal\") # \"Kemal\" değeri burada  argüman olmaktadır. "
   ]
  },
  {
   "cell_type": "code",
   "execution_count": 10,
   "metadata": {},
   "outputs": [
    {
     "name": "stdout",
     "output_type": "stream",
     "text": [
      "Merhaba: Ayşe\n"
     ]
    }
   ],
   "source": [
    "selamla(\"Ayşe\") # \"Ayşe\" değeri burada  argüman olmaktadır. "
   ]
  },
  {
   "cell_type": "markdown",
   "metadata": {},
   "source": [
    "Bizim *fonksiyon tanımlarken* tanımladığımız herbir değişken birer **Parametre** , *fonksiyon çağrısı* yaptığımız zaman içine gönderdiğimiz değerler ise **Argüman** olmaktadır. Burada fonksiyonu çağırırken gönderdiğimiz \"Kemal\" değeri \"isim\" isimli parametreye eşit oluyor ve fonksiyonumuz bu değere göre işlem yapıyor. \"Ayşe\" değerini gönderdiğimizde ise fonksiyonumuz bu değere göre işlem yaparak ekrana farklı bir değer yazdırıyor. Şimdi isterseniz farklı bir fonksiyon tanımlayalım ve 3 tane parametre alsın."
   ]
  },
  {
   "cell_type": "code",
   "execution_count": 11,
   "metadata": {},
   "outputs": [],
   "source": [
    "# Toplama fonksiyonu\n",
    "def toplama(a,b,c):\n",
    "    print(\"Toplamları:\",a+b+c)\n"
   ]
  },
  {
   "cell_type": "code",
   "execution_count": 12,
   "metadata": {},
   "outputs": [
    {
     "name": "stdout",
     "output_type": "stream",
     "text": [
      "Toplamları: 12\n"
     ]
    }
   ],
   "source": [
    "toplama(3,4,5)"
   ]
  },
  {
   "cell_type": "code",
   "execution_count": 13,
   "metadata": {},
   "outputs": [
    {
     "name": "stdout",
     "output_type": "stream",
     "text": [
      "Toplamları: 50\n"
     ]
    }
   ],
   "source": [
    "toplama(10,11,29)"
   ]
  },
  {
   "cell_type": "code",
   "execution_count": 14,
   "metadata": {},
   "outputs": [
    {
     "name": "stdout",
     "output_type": "stream",
     "text": [
      "Toplamları: 53\n"
     ]
    }
   ],
   "source": [
    "toplama(4,9,40)"
   ]
  },
  {
   "cell_type": "code",
   "execution_count": 15,
   "metadata": {},
   "outputs": [],
   "source": [
    "def faktoriyel(sayı):\n",
    "    faktoriyel = 1\n",
    "    if (sayı == 0 or sayı == 1):\n",
    "        print(\"Faktoriyel\",faktoriyel)\n",
    "    else:\n",
    "        while (sayı >= 1):\n",
    "            faktoriyel *= sayı\n",
    "            sayı -=1\n",
    "        print(\"Faktoriyel\", faktoriyel)\n",
    "            \n",
    "    "
   ]
  },
  {
   "cell_type": "code",
   "execution_count": 16,
   "metadata": {},
   "outputs": [
    {
     "name": "stdout",
     "output_type": "stream",
     "text": [
      "Faktoriyel 120\n"
     ]
    }
   ],
   "source": [
    "faktoriyel(5)"
   ]
  },
  {
   "cell_type": "code",
   "execution_count": 17,
   "metadata": {},
   "outputs": [
    {
     "name": "stdout",
     "output_type": "stream",
     "text": [
      "Faktoriyel 720\n"
     ]
    }
   ],
   "source": [
    "faktoriyel(6)"
   ]
  },
  {
   "cell_type": "code",
   "execution_count": 18,
   "metadata": {},
   "outputs": [
    {
     "name": "stdout",
     "output_type": "stream",
     "text": [
      "Faktoriyel 1\n"
     ]
    }
   ],
   "source": [
    "faktoriyel(1)"
   ]
  },
  {
   "cell_type": "code",
   "execution_count": 19,
   "metadata": {},
   "outputs": [
    {
     "name": "stdout",
     "output_type": "stream",
     "text": [
      "Faktoriyel 1\n"
     ]
    }
   ],
   "source": [
    "faktoriyel(0)"
   ]
  }
 ],
 "metadata": {
  "kernelspec": {
   "display_name": "Python 3",
   "language": "python",
   "name": "python3"
  },
  "language_info": {
   "codemirror_mode": {
    "name": "ipython",
    "version": 3
   },
   "file_extension": ".py",
   "mimetype": "text/x-python",
   "name": "python",
   "nbconvert_exporter": "python",
   "pygments_lexer": "ipython3",
   "version": "3.7.4"
  }
 },
 "nbformat": 4,
 "nbformat_minor": 2
}
