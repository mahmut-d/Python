{
 "cells": [
  {
   "cell_type": "code",
   "execution_count": null,
   "metadata": {},
   "outputs": [],
   "source": []
  }
 ],
 "metadata": {
  "kernelspec": {
   "display_name": "Python 3.7.7 64-bit ('opencv': conda)",
   "language": "python",
   "name": "python37764bitopencvcondaa8426cb48cce41138135bfb927957df7"
  }
 },
 "nbformat": 4,
 "nbformat_minor": 4
}
