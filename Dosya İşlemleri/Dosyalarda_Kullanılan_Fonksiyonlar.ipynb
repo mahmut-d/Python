{
 "cells": [
  {
   "cell_type": "markdown",
   "metadata": {},
   "source": [
    "# Dosyalarda Kullanılan Fonksiyonlar"
   ]
  },
  {
   "cell_type": "markdown",
   "metadata": {},
   "source": [
    "### Dosyaları Otomatik Kapatma\n",
    "\n",
    "Dosyalarda işlemlerimiz bittiği zaman dosyamızı kapatmamız gerektiğini biliyoruz. Ancak programlamacılık doğası gereği çoğu zaman dosyaları kapatmayı unutabiliriz. Bunun için Pythonda dosyalarda işimiz bitince otomatik kapatma özelliği bulunuyor. Bundan sonra Pythonda dosya işlemlerimizi şu blok içinde yapacağız.\n",
    "\n",
    "\n",
    "                    with open(dosya_adı,dosya_kipi) as file:\n",
    "                        Dosya işlemleri\n"
   ]
  },
  {
   "cell_type": "code",
   "execution_count": 1,
   "metadata": {},
   "outputs": [
    {
     "name": "stdout",
     "output_type": "stream",
     "text": [
      "Semih Aktaş\n",
      "\n",
      "topr***renkli gözleri vardıMert Erarslan\n",
      "\n",
      "Mehmet Keper\n",
      "\n",
      "Ahmet Baltacı\n",
      "\n"
     ]
    }
   ],
   "source": [
    "with open(\"bilgiler.txt\",\"r\",encoding = \"utf-8\") as file:\n",
    "    for i in file:\n",
    "        print(i)\n"
   ]
  },
  {
   "cell_type": "markdown",
   "metadata": {},
   "source": [
    "Eğer dosya işlemlerini bu blok içinde yaparsak işlemimiz bittiği zaman dosyamız otomatik olarak kapanacaktır."
   ]
  },
  {
   "cell_type": "markdown",
   "metadata": {},
   "source": [
    "### Dosyaları İleri Geri Sarmak\n",
    "\n",
    "Çoğu zaman dosya imlecini (file) dosyanın herhangi bir yerine götürmek isteyebiliriz. Bunun için Pythondaki **seek()** fonksiyonunu kullanacağız. Ancak ondan önce dosya imlecinin hangi byteda olduğunu söyleyen **tell()** fonksiyonuna bakalım. "
   ]
  },
  {
   "cell_type": "code",
   "execution_count": 2,
   "metadata": {},
   "outputs": [
    {
     "name": "stdout",
     "output_type": "stream",
     "text": [
      "0\n"
     ]
    }
   ],
   "source": [
    "with open(\"bilgiler.txt\",\"r\",encoding = \"utf-8\") as file:\n",
    "    print(file.tell())"
   ]
  },
  {
   "cell_type": "markdown",
   "metadata": {},
   "source": [
    "Şu anda hiçbir işlem yapmadığımız için **tell()** fonksiyonu dosyanın en başında (0. byteda) olduğumuzu söyledi. Peki bir dosya imlecini dosyanın 20.byte'ına götürmek için ne yapacağız ? Bunun için de **seek()** fonksiyonunu kullanacağız."
   ]
  },
  {
   "cell_type": "code",
   "execution_count": 3,
   "metadata": {},
   "outputs": [
    {
     "name": "stdout",
     "output_type": "stream",
     "text": [
      "20\n"
     ]
    }
   ],
   "source": [
    "with open(\"bilgiler.txt\",\"r\",encoding = \"utf-8\") as file:\n",
    "    file.seek(20) # 20.byte götürdük.\n",
    "    print(file.tell()) "
   ]
  },
  {
   "cell_type": "markdown",
   "metadata": {},
   "source": [
    "Peki biz bir dosyanın belirli bir byte'ına(karakter) gidip sadece belli sayıda karakteri nasıl okuyacağız ? Eğer biz read() fonksiyonuna bir sayı değeri verirsek sadece o sayı değeri kadar alanı okuyacaktır."
   ]
  },
  {
   "cell_type": "code",
   "execution_count": 4,
   "metadata": {},
   "outputs": [
    {
     "name": "stdout",
     "output_type": "stream",
     "text": [
      " Aktaş\n",
      "top\n",
      "17\n"
     ]
    }
   ],
   "source": [
    "with open(\"bilgiler.txt\",\"r\",encoding = \"utf-8\") as file:\n",
    "    file.seek(5) # 5.byte gidiyoruz.\n",
    "    icerik = file.read(10)  # 10 karakteri okuyoruz.\n",
    "    print(icerik)\n",
    "    print(file.tell())"
   ]
  },
  {
   "cell_type": "code",
   "execution_count": 5,
   "metadata": {},
   "outputs": [
    {
     "name": "stdout",
     "output_type": "stream",
     "text": [
      " Aktaş\n",
      "top\n",
      "Semih \n"
     ]
    }
   ],
   "source": [
    "with open(\"bilgiler.txt\",\"r\",encoding = \"utf-8\") as file:\n",
    "    file.seek(5) # 5.byte gidiyoruz.\n",
    "    icerik = file.read(10)  # 10 karakteri okuyoruz.\n",
    "    print(icerik)\n",
    "    file.seek(0)\n",
    "    icerik2 = file.read(6)\n",
    "    print(icerik2)"
   ]
  }
 ],
 "metadata": {
  "kernelspec": {
   "display_name": "Python 3",
   "language": "python",
   "name": "python3"
  },
  "language_info": {
   "codemirror_mode": {
    "name": "ipython",
    "version": 3
   },
   "file_extension": ".py",
   "mimetype": "text/x-python",
   "name": "python",
   "nbconvert_exporter": "python",
   "pygments_lexer": "ipython3",
   "version": "3.7.7"
  }
 },
 "nbformat": 4,
 "nbformat_minor": 4
}
